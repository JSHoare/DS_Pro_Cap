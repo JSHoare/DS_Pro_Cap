{
 "cells": [
  {
   "cell_type": "markdown",
   "metadata": {},
   "source": [
    "<h1> Meat-Free Kebab Branding Report</h1>"
   ]
  },
  {
   "cell_type": "markdown",
   "metadata": {},
   "source": [
    "<h2>Section 1 - Introduction</h2>\n",
    "\n",
    "Berlin is known as one of the vegan food capitals of the world, with nearly any kind of food available in meat-free variants.  However, like many German cities, it also has an obsession with Döner Kebabs.  This represents a unique business opportunity that has been largely unexplored.  At present there are very few entirely meat-free kebab shops in Berlin.  Those that do exist cater largely to the vegan, vegetarian, and environmentally conscious markets.  There is an untapped market however.  \n",
    "\n",
    "The late-night customer often leaves a social event in the late evening or early hours of the morning seeking greasy salty food to sate their hunger.  Often tired and inebriated, this customer wants fast and friendly service with a minimum of frills.  Current meat-free kebab offerings can provide some of these, but are not typically open late enough to take advantage of this customer base.\n",
    "\n",
    "The business problem at hand is to identify the optimal areas of Berlin to open a late-night meat-free kebab shop.  This is potentially interesting to owners of current vegan restaurants/cafes, looking to expand into the late-night market.  It is also potentially interesting to owners of late-night fast food outlets looking to attract customers who do not eat meat.\n",
    "\n",
    "<h3>The Problem Specifics</h3>\n",
    "\n",
    "A good area to open a meat-free kebab shop is one that fulfils the following criteria.\n",
    "- An area with lots of late-night establishments such as bars or clubs, as these are our target customer base\n",
    "- An area where late-night fast food places already exist, as these will have good footfall\n",
    "\n",
    "There is also a question of whether to place the meat-free kebab shop near other vegan, vegetarian, or meat-free food outlets.  This may help with attracting customers, but if the location is far from bars or clubs then it will hurt footfall.  So there are three questions.\n",
    "\n",
    "    1) What areas of Berlin have a high number of both late-night entertainment venues and fast-food outlets?\n",
    "    2) Are these areas overlapping with areas with high numbers of vegan (etc.) venues?\n",
    "    3) What is the optimal area(s) to open a meat-free döner kebab shop in Berlin?"
   ]
  },
  {
   "cell_type": "markdown",
   "metadata": {},
   "source": [
    "<h2>Section 2 - Data</h2>\n",
    "\n",
    "<h3>Data Sources</h3>\n",
    "\n",
    "Firstly, location data will be acquired using the Wikipedia library for Python.  This will obtain a list of all areas in Berlin, and then use this to access the coordinates of these areas.\n",
    "\n",
    "Secondly, the venue data will be acquired using the FourSquare API.  This will use the coordinates from the location data to search for venues in each region of Berlin.  These will be refined into the categories of interest to generate regional information.\n",
    "\n",
    "<h3>Data Analysis</h3>\n",
    "\n",
    "Exploratory analysis will be carried out to plot all the venues fitting one of our three categories (<code>late-night entertainment</code>,<code>fast-food outlet</code>,<code>vegan food outlet</code>) in Berlin.  This will give us an idea of the distribution of these venues.\n",
    "\n",
    "Correlations will be performed to see if areas with higher numbers of each category also have higher numbers of the other category.  This will allow us to see any linear relationships between the venue categories.\n",
    "\n",
    "Then, clusters of similar areas will be generated using k-means clustering.  This will find areas that are similar and areas that are dissimilar.  Using our critera we can then suggest what areas of Berlin are optimal in which to open a meat-free kebab shop."
   ]
  },
  {
   "cell_type": "code",
   "execution_count": null,
   "metadata": {},
   "outputs": [],
   "source": []
  }
 ],
 "metadata": {
  "kernelspec": {
   "display_name": "Python 3",
   "language": "python",
   "name": "python3"
  },
  "language_info": {
   "codemirror_mode": {
    "name": "ipython",
    "version": 3
   },
   "file_extension": ".py",
   "mimetype": "text/x-python",
   "name": "python",
   "nbconvert_exporter": "python",
   "pygments_lexer": "ipython3",
   "version": "3.7.3"
  }
 },
 "nbformat": 4,
 "nbformat_minor": 2
}
