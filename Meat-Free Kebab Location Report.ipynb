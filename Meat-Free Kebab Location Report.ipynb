{
 "cells": [
  {
   "cell_type": "markdown",
   "metadata": {},
   "source": [
    "<h1> Meat-Free Kebab Branding Report</h1>"
   ]
  },
  {
   "cell_type": "markdown",
   "metadata": {},
   "source": [
    "<h2>Section 1 - Introduction</h2>\n",
    "\n",
    "Berlin is known as one of the vegan food capitals of the world, with nearly any kind of food available in meat-free variants.  However, like many German cities, it also has an obsession with Döner Kebabs.  This represents a unique business opportunity that has been largely unexplored.  At present there are very few entirely meat-free kebab shops in Berlin.  Those that do exist cater largely to the vegan, vegetarian, and environmentally conscious markets.  There is an untapped market however.  \n",
    "\n",
    "The late-night customer often leaves a social event in the late evening or early hours of the morning seeking greasy salty food to sate their hunger.  Often tired and inebriated, this customer wants fast and friendly service with a minimum of frills.  Current meat-free kebab offerings can provide some of these, but are not typically open late enough to take advantage of this customer base.\n",
    "\n",
    "The business problem at hand is to identify the optimal areas of Berlin to open a late-night meat-free kebab shop.  This is potentially interesting to owners of current vegan restaurants/cafes, looking to expand into the late-night market.  It is also potentially interesting to owners of late-night fast food outlets looking to attract customers who do not eat meat.\n",
    "\n",
    "<h3>The Problem Specifics</h3>\n",
    "\n",
    "A good area to open a meat-free kebab shop is one that fulfils the following criteria.\n",
    "- An area with lots of late-night establishments such as bars or clubs, as these are our target customer base\n",
    "- An area where late-night fast food places already exist, as these will have good footfall\n",
    "\n",
    "There is also a question of whether to place the meat-free kebab shop near other vegan, vegetarian, or meat-free food outlets.  This may help with attracting customers, but if the location is far from bars or clubs then it will hurt footfall.  So there are three questions.\n",
    "\n",
    "    1) What areas of Berlin have a high number of both late-night entertainment venues and fast-food outlets?\n",
    "    2) Are these areas overlapping with areas with high numbers of vegan (etc.) venues?\n",
    "    3) What is the optimal area(s) to open a meat-free döner kebab shop in Berlin?"
   ]
  },
  {
   "cell_type": "markdown",
   "metadata": {},
   "source": [
    "<h2>Section 2 - Data</h2>\n",
    "\n",
    "<h3>Data Sources</h3>\n",
    "\n",
    "Firstly, location data will be acquired using the Wikipedia library for Python.  This will obtain a list of all areas in Berlin, and then use this to access the coordinates of these areas.\n",
    "\n",
    "Secondly, the venue data will be acquired using the FourSquare API.  This will use the coordinates from the location data to search for venues in each region of Berlin.  These will be refined into the categories of interest to generate regional information.\n",
    "\n",
    "<h3>Data Analysis</h3>\n",
    "\n",
    "Exploratory analysis will be carried out to plot all the venues fitting one of our three categories (<code>late-night entertainment</code>,<code>fast-food outlet</code>,<code>vegan food outlet</code>) in Berlin.  This will give us an idea of the distribution of these venues.\n",
    "\n",
    "Correlations will be performed to see if areas with higher numbers of each category also have higher numbers of the other category.  This will allow us to see any linear relationships between the venue categories.\n",
    "\n",
    "Then, clusters of similar areas will be generated using k-means clustering.  This will find areas that are similar and areas that are dissimilar.  Using our critera we can then suggest what areas of Berlin are optimal in which to open a meat-free kebab shop."
   ]
  },
  {
   "cell_type": "markdown",
   "metadata": {},
   "source": [
    "<h3>Example Location Data</h3>"
   ]
  },
  {
   "cell_type": "code",
   "execution_count": 4,
   "metadata": {},
   "outputs": [
    {
     "name": "stdout",
     "output_type": "stream",
     "text": [
      "Area of Berlin: Berlin-Mitte, Latitude: 52.51944444, Longitude: 13.40666667\n"
     ]
    }
   ],
   "source": [
    "import wikipedia\n",
    "BM_lat = float(wikipedia.WikipediaPage(title = 'Berlin-Mitte').coordinates[0])\n",
    "BM_long = float(wikipedia.WikipediaPage(title = 'Berlin-Mitte').coordinates[1])\n",
    "print('Area of Berlin: {}, Latitude: {}, Longitude: {}'.format('Berlin-Mitte',BM_lat,BM_long))"
   ]
  },
  {
   "cell_type": "markdown",
   "metadata": {},
   "source": [
    "<h3>Example Venue Data</h3>"
   ]
  },
  {
   "cell_type": "code",
   "execution_count": 10,
   "metadata": {},
   "outputs": [
    {
     "data": {
      "text/html": [
       "<div>\n",
       "<style scoped>\n",
       "    .dataframe tbody tr th:only-of-type {\n",
       "        vertical-align: middle;\n",
       "    }\n",
       "\n",
       "    .dataframe tbody tr th {\n",
       "        vertical-align: top;\n",
       "    }\n",
       "\n",
       "    .dataframe thead th {\n",
       "        text-align: right;\n",
       "    }\n",
       "</style>\n",
       "<table border=\"1\" class=\"dataframe\">\n",
       "  <thead>\n",
       "    <tr style=\"text-align: right;\">\n",
       "      <th></th>\n",
       "      <th>Region</th>\n",
       "      <th>Venue</th>\n",
       "      <th>Latitude</th>\n",
       "      <th>Longitude</th>\n",
       "      <th>Category</th>\n",
       "    </tr>\n",
       "  </thead>\n",
       "  <tbody>\n",
       "    <tr>\n",
       "      <th>0</th>\n",
       "      <td>Kreuzberg</td>\n",
       "      <td>Haruns Kebab</td>\n",
       "      <td>52.4874</td>\n",
       "      <td>13.3833</td>\n",
       "      <td>Kebab Restaurant</td>\n",
       "    </tr>\n",
       "    <tr>\n",
       "      <th>1</th>\n",
       "      <td>Wedding</td>\n",
       "      <td>Imrun Grill</td>\n",
       "      <td>52.3300</td>\n",
       "      <td>13.2200</td>\n",
       "      <td>Turkish Restaurant</td>\n",
       "    </tr>\n",
       "  </tbody>\n",
       "</table>\n",
       "</div>"
      ],
      "text/plain": [
       "      Region         Venue  Latitude  Longitude            Category\n",
       "0  Kreuzberg  Haruns Kebab   52.4874    13.3833    Kebab Restaurant\n",
       "1    Wedding   Imrun Grill   52.3300    13.2200  Turkish Restaurant"
      ]
     },
     "execution_count": 10,
     "metadata": {},
     "output_type": "execute_result"
    }
   ],
   "source": [
    "import pandas as pd\n",
    "BM_df = pd.DataFrame({'Region':['Kreuzberg','Wedding'],'Venue':['Harun''s Kebab','Imrun Grill'],'Latitude':[52.4874,52.3300],'Longitude':[13.3833,13.2200],'Category':['Kebab Restaurant','Turkish Restaurant']})\n",
    "BM_df"
   ]
  },
  {
   "cell_type": "code",
   "execution_count": null,
   "metadata": {},
   "outputs": [],
   "source": []
  }
 ],
 "metadata": {
  "kernelspec": {
   "display_name": "Python 3",
   "language": "python",
   "name": "python3"
  },
  "language_info": {
   "codemirror_mode": {
    "name": "ipython",
    "version": 3
   },
   "file_extension": ".py",
   "mimetype": "text/x-python",
   "name": "python",
   "nbconvert_exporter": "python",
   "pygments_lexer": "ipython3",
   "version": "3.7.3"
  }
 },
 "nbformat": 4,
 "nbformat_minor": 2
}
